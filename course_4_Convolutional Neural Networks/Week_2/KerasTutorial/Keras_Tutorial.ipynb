{
 "cells": [
  {
   "cell_type": "code",
   "execution_count": 6,
   "metadata": {},
   "outputs": [],
   "source": [
    "import numpy as np\n",
    "from keras import layers\n",
    "from keras.layers import Input, Dense, Activation, ZeroPadding2D, BatchNormalization, Flatten, Conv2D\n",
    "from keras.layers import AveragePooling2D, MaxPooling2D, Dropout, GlobalMaxPooling2D, GlobalAveragePooling2D\n",
    "from keras.models import Model\n",
    "from keras.preprocessing import image\n",
    "from keras.utils import layer_utils\n",
    "from keras.utils.data_utils import get_file\n",
    "from keras.applications.imagenet_utils import preprocess_input\n",
    "import pydot\n",
    "from IPython.display import SVG\n",
    "from keras.utils.vis_utils import model_to_dot\n",
    "from keras.utils import plot_model\n",
    "from kt_utils import *\n",
    "\n",
    "import keras.backend as K\n",
    "K.set_image_data_format('channels_last')\n",
    "import matplotlib.pyplot as plt\n",
    "from matplotlib.pyplot import imshow\n",
    "\n",
    "%matplotlib inline"
   ]
  },
  {
   "cell_type": "code",
   "execution_count": 7,
   "metadata": {},
   "outputs": [
    {
     "name": "stdout",
     "output_type": "stream",
     "text": [
      "number of training examples = 600\n",
      "number of test examples = 150\n",
      "X_train shape: (600, 64, 64, 3)\n",
      "Y_train shape: (600, 1)\n",
      "X_test shape: (150, 64, 64, 3)\n",
      "Y_test shape: (150, 1)\n"
     ]
    }
   ],
   "source": [
    "X_train_orig, Y_train_orig, X_test_orig, Y_test_orig, classes = load_dataset()\n",
    "\n",
    "# Normalize image vectors\n",
    "X_train = X_train_orig/255.\n",
    "X_test = X_test_orig/255.\n",
    "\n",
    "# Reshape\n",
    "Y_train = Y_train_orig.T\n",
    "Y_test = Y_test_orig.T\n",
    "\n",
    "print (\"number of training examples = \" + str(X_train.shape[0]))\n",
    "print (\"number of test examples = \" + str(X_test.shape[0]))\n",
    "print (\"X_train shape: \" + str(X_train.shape))\n",
    "print (\"Y_train shape: \" + str(Y_train.shape))\n",
    "print (\"X_test shape: \" + str(X_test.shape))\n",
    "print (\"Y_test shape: \" + str(Y_test.shape))"
   ]
  },
  {
   "cell_type": "code",
   "execution_count": 8,
   "metadata": {},
   "outputs": [],
   "source": [
    "# GRADED FUNCTION: HappyModel\n",
    "\n",
    "def HappyModel(input_shape):\n",
    "    \"\"\"\n",
    "    Implementation of the HappyModel.\n",
    "    \n",
    "    Arguments:\n",
    "    input_shape -- shape of the images of the dataset\n",
    "\n",
    "    Returns:\n",
    "    model -- a Model() instance in Keras\n",
    "    \"\"\"\n",
    "    \n",
    "    ### START CODE HERE ###\n",
    "    # Feel free to use the suggested outline in the text above to get started, and run through the whole\n",
    "    # exercise (including the later portions of this notebook) once. The come back also try out other\n",
    "    # network architectures as well. \n",
    "    X_input = Input(input_shape)\n",
    "\n",
    "    # Zero-Padding: pads the border of X_input with zeroes\n",
    "    X = ZeroPadding2D((3, 3))(X_input)\n",
    "\n",
    "    # CONV -> BN -> RELU Block applied to X\n",
    "    X = Conv2D(32, (7, 7), strides=(1, 1), name='conv0')(X)\n",
    "    X = BatchNormalization(axis=3, name='bn0')(X)\n",
    "    X = Activation('relu')(X)\n",
    "\n",
    "    # MAXPOOL\n",
    "    X = MaxPooling2D((2, 2), name='max_pool')(X)\n",
    "\n",
    "    # FLATTEN X (means convert it to a vector) + FULLYCONNECTED\n",
    "    X = Flatten()(X)\n",
    "    X = Dense(1, activation='sigmoid', name='fc')(X)\n",
    "\n",
    "    # Create model. This creates your Keras model instance, you'll use this instance to train/test the model.\n",
    "    model = Model(inputs=X_input, outputs=X, name='HappyModel')\n",
    "    ### END CODE HERE ###\n",
    "    \n",
    "    return model"
   ]
  },
  {
   "cell_type": "code",
   "execution_count": 9,
   "metadata": {},
   "outputs": [],
   "source": [
    "### START CODE HERE ### (1 line)\n",
    "happyModel = HappyModel(X_train.shape[1:])\n",
    "### END CODE HERE ###"
   ]
  },
  {
   "cell_type": "code",
   "execution_count": 10,
   "metadata": {},
   "outputs": [],
   "source": [
    "### START CODE HERE ### (1 line)\n",
    "happyModel.compile('adam', 'binary_crossentropy', metrics=['accuracy'])\n",
    "### END CODE HERE ###"
   ]
  },
  {
   "cell_type": "code",
   "execution_count": 11,
   "metadata": {
    "scrolled": true
   },
   "outputs": [
    {
     "name": "stdout",
     "output_type": "stream",
     "text": [
      "Epoch 1/40\n",
      "600/600 [==============================] - 4s 7ms/step - loss: 3.0375 - accuracy: 0.5333\n",
      "Epoch 2/40\n",
      "600/600 [==============================] - 3s 6ms/step - loss: 0.6699 - accuracy: 0.7567\n",
      "Epoch 3/40\n",
      "600/600 [==============================] - 4s 6ms/step - loss: 0.2324 - accuracy: 0.9167\n",
      "Epoch 4/40\n",
      "600/600 [==============================] - 3s 5ms/step - loss: 0.1731 - accuracy: 0.9367\n",
      "Epoch 5/40\n",
      "600/600 [==============================] - 3s 5ms/step - loss: 0.1379 - accuracy: 0.9600\n",
      "Epoch 6/40\n",
      "600/600 [==============================] - 3s 6ms/step - loss: 0.1121 - accuracy: 0.9617\n",
      "Epoch 7/40\n",
      "600/600 [==============================] - 4s 6ms/step - loss: 0.0965 - accuracy: 0.9750\n",
      "Epoch 8/40\n",
      "600/600 [==============================] - 4s 7ms/step - loss: 0.0814 - accuracy: 0.9817\n",
      "Epoch 9/40\n",
      "600/600 [==============================] - 4s 6ms/step - loss: 0.0710 - accuracy: 0.9833\n",
      "Epoch 10/40\n",
      "600/600 [==============================] - 4s 6ms/step - loss: 0.0657 - accuracy: 0.9883\n",
      "Epoch 11/40\n",
      "600/600 [==============================] - 4s 6ms/step - loss: 0.0674 - accuracy: 0.9850\n",
      "Epoch 12/40\n",
      "600/600 [==============================] - 4s 6ms/step - loss: 0.0697 - accuracy: 0.9833\n",
      "Epoch 13/40\n",
      "600/600 [==============================] - 4s 6ms/step - loss: 0.0518 - accuracy: 0.9883\n",
      "Epoch 14/40\n",
      "600/600 [==============================] - 4s 6ms/step - loss: 0.0420 - accuracy: 0.9917\n",
      "Epoch 15/40\n",
      "600/600 [==============================] - 4s 6ms/step - loss: 0.0484 - accuracy: 0.9900\n",
      "Epoch 16/40\n",
      "600/600 [==============================] - 4s 7ms/step - loss: 0.0521 - accuracy: 0.9850\n",
      "Epoch 17/40\n",
      "600/600 [==============================] - 4s 6ms/step - loss: 0.0517 - accuracy: 0.9867\n",
      "Epoch 18/40\n",
      "600/600 [==============================] - 4s 6ms/step - loss: 0.0473 - accuracy: 0.9867\n",
      "Epoch 19/40\n",
      "600/600 [==============================] - 4s 6ms/step - loss: 0.0550 - accuracy: 0.9817\n",
      "Epoch 20/40\n",
      "600/600 [==============================] - 3s 6ms/step - loss: 0.0420 - accuracy: 0.9850\n",
      "Epoch 21/40\n",
      "600/600 [==============================] - 4s 7ms/step - loss: 0.0376 - accuracy: 0.9900\n",
      "Epoch 22/40\n",
      "600/600 [==============================] - 4s 6ms/step - loss: 0.0316 - accuracy: 0.9900\n",
      "Epoch 23/40\n",
      "600/600 [==============================] - 4s 6ms/step - loss: 0.0341 - accuracy: 0.9933\n",
      "Epoch 24/40\n",
      "600/600 [==============================] - 4s 7ms/step - loss: 0.0240 - accuracy: 0.9933\n",
      "Epoch 25/40\n",
      "600/600 [==============================] - 4s 6ms/step - loss: 0.0208 - accuracy: 0.9933\n",
      "Epoch 26/40\n",
      "600/600 [==============================] - 3s 6ms/step - loss: 0.0220 - accuracy: 0.9917\n",
      "Epoch 27/40\n",
      "600/600 [==============================] - 3s 6ms/step - loss: 0.0219 - accuracy: 0.9967\n",
      "Epoch 28/40\n",
      "600/600 [==============================] - 3s 6ms/step - loss: 0.0178 - accuracy: 0.9950\n",
      "Epoch 29/40\n",
      "600/600 [==============================] - 4s 6ms/step - loss: 0.0188 - accuracy: 0.9950\n",
      "Epoch 30/40\n",
      "600/600 [==============================] - 3s 6ms/step - loss: 0.0222 - accuracy: 0.9917\n",
      "Epoch 31/40\n",
      "600/600 [==============================] - 3s 6ms/step - loss: 0.0185 - accuracy: 0.9967\n",
      "Epoch 32/40\n",
      "600/600 [==============================] - 4s 6ms/step - loss: 0.0177 - accuracy: 0.9967\n",
      "Epoch 33/40\n",
      "600/600 [==============================] - 4s 6ms/step - loss: 0.0171 - accuracy: 0.9983\n",
      "Epoch 34/40\n",
      "600/600 [==============================] - 4s 6ms/step - loss: 0.0199 - accuracy: 0.9967\n",
      "Epoch 35/40\n",
      "600/600 [==============================] - 3s 6ms/step - loss: 0.0350 - accuracy: 0.9867\n",
      "Epoch 36/40\n",
      "600/600 [==============================] - 4s 6ms/step - loss: 0.0462 - accuracy: 0.9833\n",
      "Epoch 37/40\n",
      "600/600 [==============================] - 3s 6ms/step - loss: 0.0401 - accuracy: 0.9900\n",
      "Epoch 38/40\n",
      "600/600 [==============================] - 4s 6ms/step - loss: 0.0185 - accuracy: 0.9950\n",
      "Epoch 39/40\n",
      "600/600 [==============================] - 4s 6ms/step - loss: 0.0328 - accuracy: 0.9883\n",
      "Epoch 40/40\n",
      "600/600 [==============================] - 3s 6ms/step - loss: 0.0124 - accuracy: 0.9967\n"
     ]
    },
    {
     "data": {
      "text/plain": [
       "<keras.callbacks.callbacks.History at 0x1acd15892c8>"
      ]
     },
     "execution_count": 11,
     "metadata": {},
     "output_type": "execute_result"
    }
   ],
   "source": [
    "### START CODE HERE ### (1 line)\n",
    "happyModel.fit(X_train, Y_train, epochs=40, batch_size=50)\n",
    "### END CODE HERE ###"
   ]
  },
  {
   "cell_type": "code",
   "execution_count": 12,
   "metadata": {},
   "outputs": [
    {
     "name": "stdout",
     "output_type": "stream",
     "text": [
      "150/150 [==============================] - 0s 2ms/step\n",
      "\n",
      "Loss = 0.10952871610720952\n",
      "Test Accuracy = 0.9599999785423279\n"
     ]
    }
   ],
   "source": [
    "### START CODE HERE ### (1 line)\n",
    "preds = happyModel.evaluate(X_test, Y_test, batch_size=32, verbose=1, sample_weight=None)\n",
    "### END CODE HERE ###\n",
    "print()\n",
    "print (\"Loss = \" + str(preds[0]))\n",
    "print (\"Test Accuracy = \" + str(preds[1]))"
   ]
  },
  {
   "cell_type": "code",
   "execution_count": 19,
   "metadata": {},
   "outputs": [
    {
     "name": "stdout",
     "output_type": "stream",
     "text": [
      "Model: \"HappyModel\"\n",
      "_________________________________________________________________\n",
      "Layer (type)                 Output Shape              Param #   \n",
      "=================================================================\n",
      "input_1 (InputLayer)         (None, 64, 64, 3)         0         \n",
      "_________________________________________________________________\n",
      "zero_padding2d_1 (ZeroPaddin (None, 70, 70, 3)         0         \n",
      "_________________________________________________________________\n",
      "conv0 (Conv2D)               (None, 64, 64, 32)        4736      \n",
      "_________________________________________________________________\n",
      "bn0 (BatchNormalization)     (None, 64, 64, 32)        128       \n",
      "_________________________________________________________________\n",
      "activation_1 (Activation)    (None, 64, 64, 32)        0         \n",
      "_________________________________________________________________\n",
      "max_pool (MaxPooling2D)      (None, 32, 32, 32)        0         \n",
      "_________________________________________________________________\n",
      "flatten_1 (Flatten)          (None, 32768)             0         \n",
      "_________________________________________________________________\n",
      "fc (Dense)                   (None, 1)                 32769     \n",
      "=================================================================\n",
      "Total params: 37,633\n",
      "Trainable params: 37,569\n",
      "Non-trainable params: 64\n",
      "_________________________________________________________________\n"
     ]
    }
   ],
   "source": [
    "happyModel.summary()"
   ]
  }
 ],
 "metadata": {
  "kernelspec": {
   "display_name": "Python 3",
   "language": "python",
   "name": "python3"
  },
  "language_info": {
   "codemirror_mode": {
    "name": "ipython",
    "version": 3
   },
   "file_extension": ".py",
   "mimetype": "text/x-python",
   "name": "python",
   "nbconvert_exporter": "python",
   "pygments_lexer": "ipython3",
   "version": "3.7.6"
  }
 },
 "nbformat": 4,
 "nbformat_minor": 2
}
